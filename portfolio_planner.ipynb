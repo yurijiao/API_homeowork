{
 "cells": [
  {
   "cell_type": "code",
   "execution_count": 1,
   "metadata": {},
   "outputs": [],
   "source": [
    "import numpy as np\n",
    "import pandas as pd\n",
    "from datetime import datetime, timedelta\n",
    "import matplotlib.pyplot as plt\n",
    "%matplotlib inline"
   ]
  },
  {
   "cell_type": "code",
   "execution_count": 2,
   "metadata": {},
   "outputs": [],
   "source": [
    "np.random.seed(42)"
   ]
  },
  {
   "cell_type": "markdown",
   "metadata": {},
   "source": [
    "# Portfolio Planner\n",
    "\n",
    "In this activity, you will use the iedfinance api to grab historical data for a 60/40 portfolio using `SPY` to represent the stock portion and `AGG` to represent the bonds."
   ]
  },
  {
   "cell_type": "code",
   "execution_count": 3,
   "metadata": {},
   "outputs": [],
   "source": [
    "from iexfinance.stocks import get_historical_data\n",
    "from iexfinance.refdata import get_symbols\n",
    "import iexfinance as iex"
   ]
  },
  {
   "cell_type": "code",
   "execution_count": 5,
   "metadata": {},
   "outputs": [],
   "source": [
    "import os\n",
    "key= os.getenv('IEX_PUBLIC_KEY')\n"
   ]
  },
  {
   "cell_type": "markdown",
   "metadata": {},
   "source": [
    "# Data Collection\n",
    "\n",
    "In this step, you will need to use the IEX api to fetch closing prices for the `SPY` and `AGG` tickers. Save the results as a pandas DataFrame"
   ]
  },
  {
   "cell_type": "code",
   "execution_count": 6,
   "metadata": {},
   "outputs": [
    {
     "data": {
      "text/html": [
       "<div>\n",
       "<style scoped>\n",
       "    .dataframe tbody tr th:only-of-type {\n",
       "        vertical-align: middle;\n",
       "    }\n",
       "\n",
       "    .dataframe tbody tr th {\n",
       "        vertical-align: top;\n",
       "    }\n",
       "\n",
       "    .dataframe thead th {\n",
       "        text-align: right;\n",
       "    }\n",
       "</style>\n",
       "<table border=\"1\" class=\"dataframe\">\n",
       "  <thead>\n",
       "    <tr style=\"text-align: right;\">\n",
       "      <th></th>\n",
       "      <th>currency</th>\n",
       "      <th>date</th>\n",
       "      <th>exchange</th>\n",
       "      <th>iexId</th>\n",
       "      <th>isEnabled</th>\n",
       "      <th>name</th>\n",
       "      <th>region</th>\n",
       "      <th>symbol</th>\n",
       "      <th>type</th>\n",
       "    </tr>\n",
       "  </thead>\n",
       "  <tbody>\n",
       "    <tr>\n",
       "      <th>0</th>\n",
       "      <td>USD</td>\n",
       "      <td>2019-10-06</td>\n",
       "      <td>NYS</td>\n",
       "      <td>IEX_46574843354B2D52</td>\n",
       "      <td>True</td>\n",
       "      <td>Agilent Technologies Inc.</td>\n",
       "      <td>US</td>\n",
       "      <td>A</td>\n",
       "      <td>cs</td>\n",
       "    </tr>\n",
       "    <tr>\n",
       "      <th>1</th>\n",
       "      <td>USD</td>\n",
       "      <td>2019-10-06</td>\n",
       "      <td>NYS</td>\n",
       "      <td>IEX_4238333734532D52</td>\n",
       "      <td>True</td>\n",
       "      <td>Alcoa Corp.</td>\n",
       "      <td>US</td>\n",
       "      <td>AA</td>\n",
       "      <td>cs</td>\n",
       "    </tr>\n",
       "    <tr>\n",
       "      <th>2</th>\n",
       "      <td>USD</td>\n",
       "      <td>2019-10-06</td>\n",
       "      <td>PSE</td>\n",
       "      <td>IEX_474B433136332D52</td>\n",
       "      <td>True</td>\n",
       "      <td>Perth Mint Physical Gold ETF</td>\n",
       "      <td>US</td>\n",
       "      <td>AAAU</td>\n",
       "      <td>et</td>\n",
       "    </tr>\n",
       "    <tr>\n",
       "      <th>3</th>\n",
       "      <td>USD</td>\n",
       "      <td>2019-10-06</td>\n",
       "      <td>NAS</td>\n",
       "      <td>IEX_4E5434354A302D52</td>\n",
       "      <td>True</td>\n",
       "      <td>Altaba Inc.</td>\n",
       "      <td>US</td>\n",
       "      <td>AABA</td>\n",
       "      <td>cef</td>\n",
       "    </tr>\n",
       "    <tr>\n",
       "      <th>4</th>\n",
       "      <td>USD</td>\n",
       "      <td>2019-10-06</td>\n",
       "      <td>NYS</td>\n",
       "      <td>IEX_4843364642592D52</td>\n",
       "      <td>True</td>\n",
       "      <td>AAC Holdings Inc.</td>\n",
       "      <td>US</td>\n",
       "      <td>AAC</td>\n",
       "      <td>cs</td>\n",
       "    </tr>\n",
       "  </tbody>\n",
       "</table>\n",
       "</div>"
      ],
      "text/plain": [
       "  currency        date exchange                 iexId  isEnabled  \\\n",
       "0      USD  2019-10-06      NYS  IEX_46574843354B2D52       True   \n",
       "1      USD  2019-10-06      NYS  IEX_4238333734532D52       True   \n",
       "2      USD  2019-10-06      PSE  IEX_474B433136332D52       True   \n",
       "3      USD  2019-10-06      NAS  IEX_4E5434354A302D52       True   \n",
       "4      USD  2019-10-06      NYS  IEX_4843364642592D52       True   \n",
       "\n",
       "                           name region symbol type  \n",
       "0     Agilent Technologies Inc.     US      A   cs  \n",
       "1                   Alcoa Corp.     US     AA   cs  \n",
       "2  Perth Mint Physical Gold ETF     US   AAAU   et  \n",
       "3                   Altaba Inc.     US   AABA  cef  \n",
       "4             AAC Holdings Inc.     US    AAC   cs  "
      ]
     },
     "execution_count": 6,
     "metadata": {},
     "output_type": "execute_result"
    }
   ],
   "source": [
    "tickers = pd.DataFrame(get_symbols(token=key))\n",
    "tickers.head()"
   ]
  },
  {
   "cell_type": "code",
   "execution_count": 7,
   "metadata": {},
   "outputs": [
    {
     "data": {
      "text/html": [
       "<div>\n",
       "<style scoped>\n",
       "    .dataframe tbody tr th:only-of-type {\n",
       "        vertical-align: middle;\n",
       "    }\n",
       "\n",
       "    .dataframe tbody tr th {\n",
       "        vertical-align: top;\n",
       "    }\n",
       "\n",
       "    .dataframe thead tr th {\n",
       "        text-align: left;\n",
       "    }\n",
       "\n",
       "    .dataframe thead tr:last-of-type th {\n",
       "        text-align: right;\n",
       "    }\n",
       "</style>\n",
       "<table border=\"1\" class=\"dataframe\">\n",
       "  <thead>\n",
       "    <tr>\n",
       "      <th></th>\n",
       "      <th colspan=\"5\" halign=\"left\">SPY</th>\n",
       "      <th colspan=\"5\" halign=\"left\">AGG</th>\n",
       "    </tr>\n",
       "    <tr>\n",
       "      <th></th>\n",
       "      <th>open</th>\n",
       "      <th>high</th>\n",
       "      <th>low</th>\n",
       "      <th>close</th>\n",
       "      <th>volume</th>\n",
       "      <th>open</th>\n",
       "      <th>high</th>\n",
       "      <th>low</th>\n",
       "      <th>close</th>\n",
       "      <th>volume</th>\n",
       "    </tr>\n",
       "    <tr>\n",
       "      <th>date</th>\n",
       "      <th></th>\n",
       "      <th></th>\n",
       "      <th></th>\n",
       "      <th></th>\n",
       "      <th></th>\n",
       "      <th></th>\n",
       "      <th></th>\n",
       "      <th></th>\n",
       "      <th></th>\n",
       "      <th></th>\n",
       "    </tr>\n",
       "  </thead>\n",
       "  <tbody>\n",
       "    <tr>\n",
       "      <th>2018-10-08</th>\n",
       "      <td>287.05</td>\n",
       "      <td>288.22</td>\n",
       "      <td>285.50</td>\n",
       "      <td>287.82</td>\n",
       "      <td>87742172</td>\n",
       "      <td>104.38</td>\n",
       "      <td>104.40</td>\n",
       "      <td>104.29</td>\n",
       "      <td>104.29</td>\n",
       "      <td>2267961</td>\n",
       "    </tr>\n",
       "    <tr>\n",
       "      <th>2018-10-09</th>\n",
       "      <td>287.39</td>\n",
       "      <td>288.86</td>\n",
       "      <td>286.77</td>\n",
       "      <td>287.40</td>\n",
       "      <td>74338982</td>\n",
       "      <td>104.39</td>\n",
       "      <td>104.51</td>\n",
       "      <td>104.32</td>\n",
       "      <td>104.44</td>\n",
       "      <td>21903180</td>\n",
       "    </tr>\n",
       "    <tr>\n",
       "      <th>2018-10-10</th>\n",
       "      <td>286.83</td>\n",
       "      <td>286.91</td>\n",
       "      <td>277.88</td>\n",
       "      <td>278.30</td>\n",
       "      <td>214731042</td>\n",
       "      <td>104.34</td>\n",
       "      <td>104.46</td>\n",
       "      <td>104.23</td>\n",
       "      <td>104.41</td>\n",
       "      <td>3834833</td>\n",
       "    </tr>\n",
       "    <tr>\n",
       "      <th>2018-10-11</th>\n",
       "      <td>277.08</td>\n",
       "      <td>278.90</td>\n",
       "      <td>270.36</td>\n",
       "      <td>272.17</td>\n",
       "      <td>274840491</td>\n",
       "      <td>104.59</td>\n",
       "      <td>104.86</td>\n",
       "      <td>104.51</td>\n",
       "      <td>104.72</td>\n",
       "      <td>7053895</td>\n",
       "    </tr>\n",
       "    <tr>\n",
       "      <th>2018-10-12</th>\n",
       "      <td>276.77</td>\n",
       "      <td>277.09</td>\n",
       "      <td>272.37</td>\n",
       "      <td>275.95</td>\n",
       "      <td>183186492</td>\n",
       "      <td>104.71</td>\n",
       "      <td>104.87</td>\n",
       "      <td>104.68</td>\n",
       "      <td>104.75</td>\n",
       "      <td>5017438</td>\n",
       "    </tr>\n",
       "  </tbody>\n",
       "</table>\n",
       "</div>"
      ],
      "text/plain": [
       "               SPY                                        AGG                  \\\n",
       "              open    high     low   close     volume    open    high     low   \n",
       "date                                                                            \n",
       "2018-10-08  287.05  288.22  285.50  287.82   87742172  104.38  104.40  104.29   \n",
       "2018-10-09  287.39  288.86  286.77  287.40   74338982  104.39  104.51  104.32   \n",
       "2018-10-10  286.83  286.91  277.88  278.30  214731042  104.34  104.46  104.23   \n",
       "2018-10-11  277.08  278.90  270.36  272.17  274840491  104.59  104.86  104.51   \n",
       "2018-10-12  276.77  277.09  272.37  275.95  183186492  104.71  104.87  104.68   \n",
       "\n",
       "                              \n",
       "             close    volume  \n",
       "date                          \n",
       "2018-10-08  104.29   2267961  \n",
       "2018-10-09  104.44  21903180  \n",
       "2018-10-10  104.41   3834833  \n",
       "2018-10-11  104.72   7053895  \n",
       "2018-10-12  104.75   5017438  "
      ]
     },
     "execution_count": 7,
     "metadata": {},
     "output_type": "execute_result"
    }
   ],
   "source": [
    "tickers = [\"SPY\", \"AGG\"]\n",
    "end_date = datetime.now()\n",
    "start_date = end_date + timedelta(-365)\n",
    "df= get_historical_data(tickers, start_date, end_date, output_format='pandas')\n",
    "df.head()"
   ]
  },
  {
   "cell_type": "code",
   "execution_count": 10,
   "metadata": {},
   "outputs": [
    {
     "data": {
      "text/html": [
       "<div>\n",
       "<style scoped>\n",
       "    .dataframe tbody tr th:only-of-type {\n",
       "        vertical-align: middle;\n",
       "    }\n",
       "\n",
       "    .dataframe tbody tr th {\n",
       "        vertical-align: top;\n",
       "    }\n",
       "\n",
       "    .dataframe thead tr th {\n",
       "        text-align: left;\n",
       "    }\n",
       "\n",
       "    .dataframe thead tr:last-of-type th {\n",
       "        text-align: right;\n",
       "    }\n",
       "</style>\n",
       "<table border=\"1\" class=\"dataframe\">\n",
       "  <thead>\n",
       "    <tr>\n",
       "      <th></th>\n",
       "      <th>SPY</th>\n",
       "      <th>AGG</th>\n",
       "    </tr>\n",
       "    <tr>\n",
       "      <th></th>\n",
       "      <th>close</th>\n",
       "      <th>close</th>\n",
       "    </tr>\n",
       "    <tr>\n",
       "      <th>date</th>\n",
       "      <th></th>\n",
       "      <th></th>\n",
       "    </tr>\n",
       "  </thead>\n",
       "  <tbody>\n",
       "    <tr>\n",
       "      <th>2018-10-08</th>\n",
       "      <td>287.82</td>\n",
       "      <td>104.29</td>\n",
       "    </tr>\n",
       "    <tr>\n",
       "      <th>2018-10-09</th>\n",
       "      <td>287.40</td>\n",
       "      <td>104.44</td>\n",
       "    </tr>\n",
       "    <tr>\n",
       "      <th>2018-10-10</th>\n",
       "      <td>278.30</td>\n",
       "      <td>104.41</td>\n",
       "    </tr>\n",
       "    <tr>\n",
       "      <th>2018-10-11</th>\n",
       "      <td>272.17</td>\n",
       "      <td>104.72</td>\n",
       "    </tr>\n",
       "    <tr>\n",
       "      <th>2018-10-12</th>\n",
       "      <td>275.95</td>\n",
       "      <td>104.75</td>\n",
       "    </tr>\n",
       "  </tbody>\n",
       "</table>\n",
       "</div>"
      ],
      "text/plain": [
       "               SPY     AGG\n",
       "             close   close\n",
       "date                      \n",
       "2018-10-08  287.82  104.29\n",
       "2018-10-09  287.40  104.44\n",
       "2018-10-10  278.30  104.41\n",
       "2018-10-11  272.17  104.72\n",
       "2018-10-12  275.95  104.75"
      ]
     },
     "execution_count": 10,
     "metadata": {},
     "output_type": "execute_result"
    }
   ],
   "source": [
    "df.drop(columns=['open','high','low','volume'], level=1, inplace=True)\n",
    "df.head()"
   ]
  },
  {
   "cell_type": "markdown",
   "metadata": {},
   "source": [
    "# Monte Carlo Simulation\n",
    "\n",
    "In this step, you will run Monte Carlo Simulations for your portfolio to model portfolio performance at different retirement ages. \n",
    "\n",
    "Complete the following steps:\n",
    "1. Calculate the daily returns for the SPY and AGG closing prices.\n",
    "2. Calculate volatility for both the SPY and AGG closing prices.\n",
    "3. Find the last day's closing price for both stocks and save those as variables.\n",
    "4. Run a Monte Carlo Simulation of at least 100 iterations and generate at least 20 years of closing prices\n",
    "\n",
    "### HINTS:\n",
    "There are 252 trading days per year, so the number of records to generate for each Monte Carlo run will be 252 days * 20 years"
   ]
  },
  {
   "cell_type": "code",
   "execution_count": 11,
   "metadata": {},
   "outputs": [
    {
     "data": {
      "text/html": [
       "<div>\n",
       "<style scoped>\n",
       "    .dataframe tbody tr th:only-of-type {\n",
       "        vertical-align: middle;\n",
       "    }\n",
       "\n",
       "    .dataframe tbody tr th {\n",
       "        vertical-align: top;\n",
       "    }\n",
       "\n",
       "    .dataframe thead tr th {\n",
       "        text-align: left;\n",
       "    }\n",
       "\n",
       "    .dataframe thead tr:last-of-type th {\n",
       "        text-align: right;\n",
       "    }\n",
       "</style>\n",
       "<table border=\"1\" class=\"dataframe\">\n",
       "  <thead>\n",
       "    <tr>\n",
       "      <th></th>\n",
       "      <th>SPY</th>\n",
       "      <th>AGG</th>\n",
       "    </tr>\n",
       "    <tr>\n",
       "      <th></th>\n",
       "      <th>close</th>\n",
       "      <th>close</th>\n",
       "    </tr>\n",
       "    <tr>\n",
       "      <th>date</th>\n",
       "      <th></th>\n",
       "      <th></th>\n",
       "    </tr>\n",
       "  </thead>\n",
       "  <tbody>\n",
       "    <tr>\n",
       "      <th>2018-10-08</th>\n",
       "      <td>NaN</td>\n",
       "      <td>NaN</td>\n",
       "    </tr>\n",
       "    <tr>\n",
       "      <th>2018-10-09</th>\n",
       "      <td>-0.001459</td>\n",
       "      <td>0.001438</td>\n",
       "    </tr>\n",
       "    <tr>\n",
       "      <th>2018-10-10</th>\n",
       "      <td>-0.031663</td>\n",
       "      <td>-0.000287</td>\n",
       "    </tr>\n",
       "    <tr>\n",
       "      <th>2018-10-11</th>\n",
       "      <td>-0.022027</td>\n",
       "      <td>0.002969</td>\n",
       "    </tr>\n",
       "    <tr>\n",
       "      <th>2018-10-12</th>\n",
       "      <td>0.013888</td>\n",
       "      <td>0.000286</td>\n",
       "    </tr>\n",
       "  </tbody>\n",
       "</table>\n",
       "</div>"
      ],
      "text/plain": [
       "                 SPY       AGG\n",
       "               close     close\n",
       "date                          \n",
       "2018-10-08       NaN       NaN\n",
       "2018-10-09 -0.001459  0.001438\n",
       "2018-10-10 -0.031663 -0.000287\n",
       "2018-10-11 -0.022027  0.002969\n",
       "2018-10-12  0.013888  0.000286"
      ]
     },
     "execution_count": 11,
     "metadata": {},
     "output_type": "execute_result"
    }
   ],
   "source": [
    "# Calculate the daily roi for the stocks\n",
    "daily_returns = df. pct_change()\n",
    "daily_returns.head()"
   ]
  },
  {
   "cell_type": "code",
   "execution_count": 13,
   "metadata": {},
   "outputs": [],
   "source": [
    "avg_spy_daily_return= daily_returns.mean()['SPY']['close']\n",
    "avg_agg_daily_return= daily_returns.mean()['AGG']['close']"
   ]
  },
  {
   "cell_type": "code",
   "execution_count": 14,
   "metadata": {},
   "outputs": [],
   "source": [
    "# Calculate volatility\n",
    "spy_std= daily_returns.std()['SPY']['close']\n",
    "agg_std= daily_returns.std()['AGG']['close']"
   ]
  },
  {
   "cell_type": "code",
   "execution_count": 15,
   "metadata": {},
   "outputs": [],
   "source": [
    "# Save the last day's closing price\n",
    "spy_last_price= daily_returns['SPY']['close'][-1]\n",
    "agg_last_price= daily_returns['AGG']['close'][-1]"
   ]
  },
  {
   "cell_type": "code",
   "execution_count": 21,
   "metadata": {},
   "outputs": [],
   "source": [
    "# Setup the Monte Carlo Parameters\n",
    "number_simulations = 100\n",
    "number_trading_days = 252 * 30\n",
    "monte_carlo = pd.DataFrame()\n",
    "portfolio_cumulative_returns = pd.DataFrame()"
   ]
  },
  {
   "cell_type": "code",
   "execution_count": 26,
   "metadata": {},
   "outputs": [
    {
     "data": {
      "text/html": [
       "<div>\n",
       "<style scoped>\n",
       "    .dataframe tbody tr th:only-of-type {\n",
       "        vertical-align: middle;\n",
       "    }\n",
       "\n",
       "    .dataframe tbody tr th {\n",
       "        vertical-align: top;\n",
       "    }\n",
       "\n",
       "    .dataframe thead th {\n",
       "        text-align: right;\n",
       "    }\n",
       "</style>\n",
       "<table border=\"1\" class=\"dataframe\">\n",
       "  <thead>\n",
       "    <tr style=\"text-align: right;\">\n",
       "      <th></th>\n",
       "      <th>0</th>\n",
       "      <th>1</th>\n",
       "      <th>2</th>\n",
       "      <th>3</th>\n",
       "      <th>4</th>\n",
       "      <th>5</th>\n",
       "      <th>6</th>\n",
       "      <th>7</th>\n",
       "      <th>8</th>\n",
       "      <th>9</th>\n",
       "      <th>...</th>\n",
       "      <th>90</th>\n",
       "      <th>91</th>\n",
       "      <th>92</th>\n",
       "      <th>93</th>\n",
       "      <th>94</th>\n",
       "      <th>95</th>\n",
       "      <th>96</th>\n",
       "      <th>97</th>\n",
       "      <th>98</th>\n",
       "      <th>99</th>\n",
       "    </tr>\n",
       "  </thead>\n",
       "  <tbody>\n",
       "    <tr>\n",
       "      <th>0</th>\n",
       "      <td>1.000000</td>\n",
       "      <td>1.000000</td>\n",
       "      <td>1.000000</td>\n",
       "      <td>1.000000</td>\n",
       "      <td>1.000000</td>\n",
       "      <td>1.000000</td>\n",
       "      <td>1.000000</td>\n",
       "      <td>1.000000</td>\n",
       "      <td>1.000000</td>\n",
       "      <td>1.000000</td>\n",
       "      <td>...</td>\n",
       "      <td>1.000000</td>\n",
       "      <td>1.000000</td>\n",
       "      <td>1.000000</td>\n",
       "      <td>1.000000</td>\n",
       "      <td>1.000000</td>\n",
       "      <td>1.000000</td>\n",
       "      <td>1.000000</td>\n",
       "      <td>1.000000</td>\n",
       "      <td>1.000000</td>\n",
       "      <td>1.000000</td>\n",
       "    </tr>\n",
       "    <tr>\n",
       "      <th>1</th>\n",
       "      <td>0.470513</td>\n",
       "      <td>0.469699</td>\n",
       "      <td>0.470842</td>\n",
       "      <td>0.469798</td>\n",
       "      <td>0.470138</td>\n",
       "      <td>0.470270</td>\n",
       "      <td>0.470549</td>\n",
       "      <td>0.470184</td>\n",
       "      <td>0.470505</td>\n",
       "      <td>0.469811</td>\n",
       "      <td>...</td>\n",
       "      <td>0.471242</td>\n",
       "      <td>0.469835</td>\n",
       "      <td>0.472960</td>\n",
       "      <td>0.472313</td>\n",
       "      <td>0.469945</td>\n",
       "      <td>0.472481</td>\n",
       "      <td>0.472755</td>\n",
       "      <td>0.470364</td>\n",
       "      <td>0.470155</td>\n",
       "      <td>0.469631</td>\n",
       "    </tr>\n",
       "    <tr>\n",
       "      <th>2</th>\n",
       "      <td>0.470865</td>\n",
       "      <td>0.470028</td>\n",
       "      <td>0.471673</td>\n",
       "      <td>0.470273</td>\n",
       "      <td>0.471556</td>\n",
       "      <td>0.470527</td>\n",
       "      <td>0.469932</td>\n",
       "      <td>0.470942</td>\n",
       "      <td>0.469332</td>\n",
       "      <td>0.470866</td>\n",
       "      <td>...</td>\n",
       "      <td>0.472415</td>\n",
       "      <td>0.469849</td>\n",
       "      <td>0.473699</td>\n",
       "      <td>0.472703</td>\n",
       "      <td>0.469900</td>\n",
       "      <td>0.471869</td>\n",
       "      <td>0.473707</td>\n",
       "      <td>0.469741</td>\n",
       "      <td>0.469942</td>\n",
       "      <td>0.469041</td>\n",
       "    </tr>\n",
       "    <tr>\n",
       "      <th>3</th>\n",
       "      <td>0.471596</td>\n",
       "      <td>0.471138</td>\n",
       "      <td>0.473250</td>\n",
       "      <td>0.471156</td>\n",
       "      <td>0.470793</td>\n",
       "      <td>0.469611</td>\n",
       "      <td>0.470083</td>\n",
       "      <td>0.471749</td>\n",
       "      <td>0.468215</td>\n",
       "      <td>0.471213</td>\n",
       "      <td>...</td>\n",
       "      <td>0.472369</td>\n",
       "      <td>0.469772</td>\n",
       "      <td>0.473338</td>\n",
       "      <td>0.472971</td>\n",
       "      <td>0.469700</td>\n",
       "      <td>0.471881</td>\n",
       "      <td>0.473966</td>\n",
       "      <td>0.469609</td>\n",
       "      <td>0.469260</td>\n",
       "      <td>0.469234</td>\n",
       "    </tr>\n",
       "    <tr>\n",
       "      <th>4</th>\n",
       "      <td>0.472560</td>\n",
       "      <td>0.469691</td>\n",
       "      <td>0.474050</td>\n",
       "      <td>0.470984</td>\n",
       "      <td>0.469133</td>\n",
       "      <td>0.469420</td>\n",
       "      <td>0.471071</td>\n",
       "      <td>0.473372</td>\n",
       "      <td>0.467095</td>\n",
       "      <td>0.470570</td>\n",
       "      <td>...</td>\n",
       "      <td>0.471802</td>\n",
       "      <td>0.471246</td>\n",
       "      <td>0.472807</td>\n",
       "      <td>0.472500</td>\n",
       "      <td>0.471082</td>\n",
       "      <td>0.472872</td>\n",
       "      <td>0.475733</td>\n",
       "      <td>0.470176</td>\n",
       "      <td>0.470732</td>\n",
       "      <td>0.469024</td>\n",
       "    </tr>\n",
       "  </tbody>\n",
       "</table>\n",
       "<p>5 rows × 100 columns</p>\n",
       "</div>"
      ],
      "text/plain": [
       "         0         1         2         3         4         5         6   \\\n",
       "0  1.000000  1.000000  1.000000  1.000000  1.000000  1.000000  1.000000   \n",
       "1  0.470513  0.469699  0.470842  0.469798  0.470138  0.470270  0.470549   \n",
       "2  0.470865  0.470028  0.471673  0.470273  0.471556  0.470527  0.469932   \n",
       "3  0.471596  0.471138  0.473250  0.471156  0.470793  0.469611  0.470083   \n",
       "4  0.472560  0.469691  0.474050  0.470984  0.469133  0.469420  0.471071   \n",
       "\n",
       "         7         8         9   ...        90        91        92        93  \\\n",
       "0  1.000000  1.000000  1.000000  ...  1.000000  1.000000  1.000000  1.000000   \n",
       "1  0.470184  0.470505  0.469811  ...  0.471242  0.469835  0.472960  0.472313   \n",
       "2  0.470942  0.469332  0.470866  ...  0.472415  0.469849  0.473699  0.472703   \n",
       "3  0.471749  0.468215  0.471213  ...  0.472369  0.469772  0.473338  0.472971   \n",
       "4  0.473372  0.467095  0.470570  ...  0.471802  0.471246  0.472807  0.472500   \n",
       "\n",
       "         94        95        96        97        98        99  \n",
       "0  1.000000  1.000000  1.000000  1.000000  1.000000  1.000000  \n",
       "1  0.469945  0.472481  0.472755  0.470364  0.470155  0.469631  \n",
       "2  0.469900  0.471869  0.473707  0.469741  0.469942  0.469041  \n",
       "3  0.469700  0.471881  0.473966  0.469609  0.469260  0.469234  \n",
       "4  0.471082  0.472872  0.475733  0.470176  0.470732  0.469024  \n",
       "\n",
       "[5 rows x 100 columns]"
      ]
     },
     "execution_count": 26,
     "metadata": {},
     "output_type": "execute_result"
    }
   ],
   "source": [
    "# Run the Monte Carlo Simulation\n",
    "for x in range(number_simulations):\n",
    "    \n",
    "    simulated_spy_price = [spy_last_price]\n",
    "    simulated_agg_price = [agg_last_price]\n",
    "    \n",
    "    for i in range(number_records):\n",
    "        spy_price = simulated_spy_price[-1] * (1+ np.random.normal(avg_spy_daily_return, spy_std))\n",
    "        agg_price= simulated_agg_price[-1] * (1+ np.random.normal(avg_agg_daily_return, agg_std))\n",
    "        \n",
    "        simulated_spy_price.append(agg_price)\n",
    "        simulated_agg_price.append(agg_price)\n",
    "    \n",
    "    monte_carlo['SPY']= pd.Series(simulated_spy_price)\n",
    "    monte_carlo['AGG']= pd.Series(simulated_agg_price)\n",
    "    \n",
    "    simulated_daily_return= monte_carlo.pct_change()\n",
    "    \n",
    "    weights = [0.6,0.4]\n",
    "    \n",
    "    portfolio_daily_returns= simulated_daily_return.dot(weights)\n",
    "    \n",
    "    portfolio_cumulative_returns[x] = (1+portfolio_daily_returns.fillna(0)).cumprod()\n",
    "\n",
    "\n",
    "portfolio_cumulative_returns.head()"
   ]
  },
  {
   "cell_type": "code",
   "execution_count": 28,
   "metadata": {},
   "outputs": [
    {
     "data": {
      "text/plain": [
       "<matplotlib.axes._subplots.AxesSubplot at 0x11ab88358>"
      ]
     },
     "execution_count": 28,
     "metadata": {},
     "output_type": "execute_result"
    },
    {
     "data": {
      "image/png": "[encoded data removed]",
      "text/plain": [
       "<Figure size 720x720 with 1 Axes>"
      ]
     },
     "metadata": {
      "needs_background": "light"
     },
     "output_type": "display_data"
    }
   ],
   "source": [
    "# Visualize the Simulation\n",
    "plot_title = f'(x+1) Simulations of Cumulative Portfolio Retrn Trajectories Over the Next 252 Trading Days'\n",
    "portfolio_cumulative_returns.plot(legend=None, title=plot_title, figsize=(10,10))"
   ]
  },
  {
   "cell_type": "code",
   "execution_count": 29,
   "metadata": {},
   "outputs": [
    {
     "data": {
      "text/plain": [
       "0    8.554134\n",
       "1    8.238658\n",
       "2    6.766212\n",
       "3    5.327846\n",
       "4    6.911063\n",
       "Name: 7560, dtype: float64"
      ]
     },
     "execution_count": 29,
     "metadata": {},
     "output_type": "execute_result"
    }
   ],
   "source": [
    "# Select the last row for the cumulative returns (cumulative returns at 30 years)\n",
    "ending_cumulative_returns = portfolio_cumulative_returns.iloc[-1,:]\n",
    "ending_cumulative_returns.head()"
   ]
  },
  {
   "cell_type": "code",
   "execution_count": 32,
   "metadata": {},
   "outputs": [
    {
     "data": {
      "text/plain": [
       "0.05    5.283711\n",
       "0.95    8.834135\n",
       "Name: 7560, dtype: float64"
      ]
     },
     "execution_count": 32,
     "metadata": {},
     "output_type": "execute_result"
    }
   ],
   "source": [
    "# Display the 90% confidence interval for the ending returns\n",
    "confidence_interval = ending_cumulative_returns.quantile(q=[0.05,0.95])\n",
    "confidence_interval"
   ]
  },
  {
   "cell_type": "code",
   "execution_count": 33,
   "metadata": {},
   "outputs": [
    {
     "data": {
      "text/plain": [
       "<matplotlib.lines.Line2D at 0x11b0f10b8>"
      ]
     },
     "execution_count": 33,
     "metadata": {},
     "output_type": "execute_result"
    },
    {
     "data": {
      "image/png": "[encoded data removed]",
      "text/plain": [
       "<Figure size 720x720 with 1 Axes>"
      ]
     },
     "metadata": {
      "needs_background": "light"
     },
     "output_type": "display_data"
    }
   ],
   "source": [
    "# Visualize the distribution of the ending returns\n",
    "ending_cumulative_returns.plot.hist(density=True, bins=10, figsize=(10,10))\n",
    "plt.axvline(confidence_interval.iloc[0], color='r')\n",
    "plt.axvline(confidence_interval.iloc[1], color='r')"
   ]
  },
  {
   "cell_type": "code",
   "execution_count": null,
   "metadata": {},
   "outputs": [],
   "source": []
  },
  {
   "cell_type": "markdown",
   "metadata": {},
   "source": [
    "---"
   ]
  },
  {
   "cell_type": "markdown",
   "metadata": {},
   "source": [
    "# Retirement Analysis\n",
    "\n",
    "In this section, you will use the monte carlo model to answer the following retirement planning questions:\n",
    "\n",
    "1. What are the expected cumulative returns at 30 years for the 10th, 50th, and 90th percentiles?\n",
    "2. Given an initial investment of `$20,000`, what is the expected portfolio return in dollars at the 10th, 50th, and 90th percentiles?\n",
    "3. Given the current projected annual income from the Plaid analysis, will a 4% withdraw rate from the retirement portfolio meet or exceed that value at the 10th percentile?\n",
    "4. How would a 50% increase in the initial investment amount affect the 4% retirement withdrawal?"
   ]
  },
  {
   "cell_type": "markdown",
   "metadata": {},
   "source": [
    "### What are the expected cumulative returns at 30 years for the 10th, 50th, and 90th percentiles?"
   ]
  },
  {
   "cell_type": "code",
   "execution_count": 36,
   "metadata": {},
   "outputs": [
    {
     "data": {
      "text/plain": [
       "0.1    5.493343\n",
       "0.5    6.768033\n",
       "0.9    8.219090\n",
       "Name: 7560, dtype: float64"
      ]
     },
     "execution_count": 36,
     "metadata": {},
     "output_type": "execute_result"
    }
   ],
   "source": [
    "return_percentiles = ending_cumulative_returns.quantile([0.1,0.5,0.9])\n",
    "return_percentiles"
   ]
  },
  {
   "cell_type": "markdown",
   "metadata": {},
   "source": [
    "### Given an initial investment of `$20,000`, what is the expected portfolio return in dollars at the 10th, 50th, and 90th percentiles?"
   ]
  },
  {
   "cell_type": "code",
   "execution_count": 39,
   "metadata": {},
   "outputs": [
    {
     "name": "stdout",
     "output_type": "stream",
     "text": [
      "10th percentile: 109866.85637397967\n",
      "50th percentile: 135360.66607215873\n",
      "90th percentil: 164381.80579317734\n"
     ]
    }
   ],
   "source": [
    "initial_investment=20000\n",
    "\n",
    "\n",
    "return_10 = initial_investment * (return_percentiles.iloc[0])\n",
    "return_50 = initial_investment * (return_percentiles.iloc[1])\n",
    "return_90 = initial_investment * (return_percentiles.iloc[2])\n",
    "\n",
    "print(f'10th percentile: {return_10}')\n",
    "print(f'50th percentile: {return_50}')\n",
    "print(f'90th percentil: {return_90}')"
   ]
  },
  {
   "cell_type": "markdown",
   "metadata": {},
   "source": [
    "### Given the current projected annual income from the Plaid analysis, will a 4% withdraw rate from the retirement portfolio meet or exceed that value at the 10th percentile?\n",
    "\n",
    "Note: This is effectively saying that 90% of the expected returns will be greater than the return at the 10th percentile, so this can help measure the uncertainty about having enough funds at retirement"
   ]
  },
  {
   "cell_type": "code",
   "execution_count": 41,
   "metadata": {},
   "outputs": [
    {
     "name": "stdout",
     "output_type": "stream",
     "text": [
      "There are $4394.674254959186 in retirement account, which is NOT sufficient\n"
     ]
    }
   ],
   "source": [
    "plaid_projected_annul_income = 7389\n",
    "\n",
    "retirement_income= 0.04 * return_10\n",
    "\n",
    "if retirement_income >= plaid_projected_annul_income: \n",
    "    print(f'There are ${retirement_income} in retirement account, which is sufficient')\n",
    "else:\n",
    "        print(f'There are ${retirement_income} in retirement account, which is NOT sufficient')"
   ]
  },
  {
   "cell_type": "markdown",
   "metadata": {},
   "source": [
    "### How would a 50% increase in the initial investment amount affect the 4% retirement withdrawal?"
   ]
  },
  {
   "cell_type": "code",
   "execution_count": 42,
   "metadata": {},
   "outputs": [
    {
     "name": "stdout",
     "output_type": "stream",
     "text": [
      "There are $4394.674254959186 in retirement account, which is NOT sufficient\n"
     ]
    }
   ],
   "source": [
    "retirement_income_2 = 0.04 * (return_10*1.5)\n",
    "\n",
    "if retirement_income_2 >= plaid_projected_annul_income: \n",
    "    print(f'There are ${retirement_income} in retirement account, which is sufficient')\n",
    "else:\n",
    "        print(f'There are ${retirement_income} in retirement account, which is NOT sufficient')"
   ]
  },
  {
   "cell_type": "markdown",
   "metadata": {},
   "source": [
    "### Optional Challenge\n",
    "\n",
    "In this section, you will calculate and plot the cumulative returns for the median and 90% confidence intervals. This plot shows the expected cumulative returns for any given day between the first day and the last day of investment. "
   ]
  },
  {
   "cell_type": "code",
   "execution_count": null,
   "metadata": {},
   "outputs": [],
   "source": [
    "# YOUR CODE HERE"
   ]
  }
 ],
 "metadata": {
  "kernel_info": {
   "name": "dev"
  },
  "kernelspec": {
   "display_name": "Python 3",
   "language": "python",
   "name": "python3"
  },
  "language_info": {
   "codemirror_mode": {
    "name": "ipython",
    "version": 3
   },
   "file_extension": ".py",
   "mimetype": "text/x-python",
   "name": "python",
   "nbconvert_exporter": "python",
   "pygments_lexer": "ipython3",
   "version": "3.7.3"
  },
  "nteract": {
   "version": "0.12.3"
  }
 },
 "nbformat": 4,
 "nbformat_minor": 4
}
